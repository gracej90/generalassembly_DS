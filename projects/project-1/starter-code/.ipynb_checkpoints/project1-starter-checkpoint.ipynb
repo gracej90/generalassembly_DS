{
 "cells": [
  {
   "cell_type": "markdown",
   "metadata": {},
   "source": [
    "# Project 1\n",
    "### By Grace Cho\n",
    "\n",
    "In this first project you will create a framework to scope out data science projects. This framework will provide you with a guide to develop a well-articulated problem statement and analysis plan that will be robust and reproducible."
   ]
  },
  {
   "cell_type": "markdown",
   "metadata": {},
   "source": [
    "### Read and evaluate the following problem statement: \n",
    "Determine which free-tier customers will covert to paying customers, using demographic data collected at signup (age, gender, location, and profession) and customer useage data (days since last log in, and activity score 1 = active user, 0= inactive user) based on Hooli data from Jan-Apr 2015. \n"
   ]
  },
  {
   "cell_type": "markdown",
   "metadata": {},
   "source": [
    "#### 1. What is the outcome?"
   ]
  },
  {
   "cell_type": "markdown",
   "metadata": {},
   "source": [
    "Answer: A conversion to paying customers indicator. For example, converted = 1 and not converted = 0."
   ]
  },
  {
   "cell_type": "markdown",
   "metadata": {},
   "source": [
    "#### 2. What are the predictors/covariates? "
   ]
  },
  {
   "cell_type": "markdown",
   "metadata": {},
   "source": [
    "Answer: \n",
    "\n",
    "Predictors / Covariates are as follows:\n",
    "- demographic data collected at signup (age, gender, location, and profession)\n",
    "- customer useage data (days since last log in, and activity score 1 = active user, 0= inactive user)"
   ]
  },
  {
   "cell_type": "markdown",
   "metadata": {},
   "source": [
    "#### 3. What timeframe is this data relevent for?"
   ]
  },
  {
   "cell_type": "markdown",
   "metadata": {},
   "source": [
    "Answer: January to April 2015"
   ]
  },
  {
   "cell_type": "markdown",
   "metadata": {},
   "source": [
    "#### 4. What is the hypothesis?"
   ]
  },
  {
   "cell_type": "markdown",
   "metadata": {},
   "source": [
    "Answer: Demographic and customer usage info will allow us to predict whether or not a free-tier customer will convert to paying customer."
   ]
  },
  {
   "cell_type": "markdown",
   "metadata": {},
   "source": [
    "## Let's get started with our dataset"
   ]
  },
  {
   "cell_type": "markdown",
   "metadata": {},
   "source": [
    "#### 1. Create a data dictionary "
   ]
  },
  {
   "cell_type": "markdown",
   "metadata": {},
   "source": [
    "Answer: \n",
    "\n",
    "Variable | Description | Type of Variable\n",
    "---| ---| ---\n",
    "admit | Binary - (0 = not admitted, 1 = admitted) | categorical\n",
    "prestige  | Integer - Rank of applicant's undergraduate alma mater (1,2,3,4) with 1 being highest and 4 lowest | categorical\n",
    "gre | Integer - GRE Score | continuous\n",
    "gpa | Float - Grade Point Average | continuous\n"
   ]
  },
  {
   "cell_type": "markdown",
   "metadata": {},
   "source": [
    "We would like to explore various factors (prestige, gre, gpa) that may influence admission into graduate school."
   ]
  },
  {
   "cell_type": "markdown",
   "metadata": {},
   "source": [
    "#### 2. What is the outcome?"
   ]
  },
  {
   "cell_type": "markdown",
   "metadata": {},
   "source": [
    "Answer: Outcome here is whether the student is admitted or not admitted to the graduate school identified by admit values (0 = not admitted, 1 = admitted)."
   ]
  },
  {
   "cell_type": "markdown",
   "metadata": {},
   "source": [
    "#### 3. What are the predictors/covariates? "
   ]
  },
  {
   "cell_type": "markdown",
   "metadata": {},
   "source": [
    "Answer: The predictors/covariates for this dataset will be as follow:\n",
    "\n",
    "- 'gre' as GRE score\n",
    "- 'gpa' as Grade Point Average\n",
    "- 'prestige' as rank of applicant's undergraduate alma mater"
   ]
  },
  {
   "cell_type": "markdown",
   "metadata": {},
   "source": [
    "#### 4. What timeframe is this data relevent for?"
   ]
  },
  {
   "cell_type": "markdown",
   "metadata": {},
   "source": [
    "Answer: There is no timeframe specified."
   ]
  },
  {
   "cell_type": "markdown",
   "metadata": {},
   "source": [
    "#### 5. What is the hypothesis?"
   ]
  },
  {
   "cell_type": "markdown",
   "metadata": {},
   "source": [
    "Answer: Applicant's various evaluation factors (gre, GPA, rank of applicant's undergraduate alma mater) will allow us to predict whether or not the applicant will be admitted into UCLA's graduate school."
   ]
  },
  {
   "cell_type": "markdown",
   "metadata": {},
   "source": [
    "## **Using the above information, write a well-formed problem statement. **"
   ]
  },
  {
   "cell_type": "markdown",
   "metadata": {},
   "source": [
    "### Problem Statement\n",
    "\n",
    "Using UCLA Graduate School's Admissions dataset given an unspecified time period, determine how likely applicants are to be admitted (0 = not admitted, 1 = admitted) to the school using the applicant's various evaluation factors (GRE, GPA, rank of applicant's undergraduate alma mater)."
   ]
  },
  {
   "cell_type": "markdown",
   "metadata": {},
   "source": [
    "### Exploratory Analysis Plan"
   ]
  },
  {
   "cell_type": "markdown",
   "metadata": {},
   "source": [
    "Using the lab from a class as a guide, create an exploratory analysis plan."
   ]
  },
  {
   "cell_type": "markdown",
   "metadata": {},
   "source": [
    "#### 1. What are the goals of the exploratory analysis? "
   ]
  },
  {
   "cell_type": "markdown",
   "metadata": {
    "collapsed": true
   },
   "source": [
    "Answer: \n",
    "\n",
    "The goals of the exploratory anlaysis are outlined below:\n",
    "\n",
    "- To ensure we have a good question, which establishes the basis for reproducibility and enables collaboration through clear goals.\n",
    "- To determine if we have the \"right\" dataset for our problem. Some questions we can ask are 1) How well was the data collected? 2) Is there much missing data?\n",
    "- To better understand the type of data we are working with (e.g. Cross-Sectional, Longitudinal)."
   ]
  },
  {
   "cell_type": "markdown",
   "metadata": {},
   "source": [
    "#### 2a. What are the assumptions of the distribution of data? "
   ]
  },
  {
   "cell_type": "markdown",
   "metadata": {},
   "source": [
    "Answer: Assumptions of distribution of data is as follows:\n",
    "\n",
    "- Data is normally distributed\n",
    "- Independent variables (predictors) are independent of one another"
   ]
  },
  {
   "cell_type": "markdown",
   "metadata": {},
   "source": [
    "#### 2b. How will you determine the distribution of your data? "
   ]
  },
  {
   "cell_type": "markdown",
   "metadata": {
    "collapsed": true
   },
   "source": [
    "Answer: We will determine the distribution of data using following methods:\n",
    "\n",
    "- Apply descriptive statistics to find key stats such as mean, median, mode, and standard deviation. Using these key stats, we can get a general understanding of distribution of data.\n",
    "- Visualize the data using graphs such as histogram and boxplot to see the distribution of data."
   ]
  },
  {
   "cell_type": "markdown",
   "metadata": {},
   "source": [
    "#### 3a. How might outliers impact your analysis? "
   ]
  },
  {
   "cell_type": "markdown",
   "metadata": {
    "collapsed": true
   },
   "source": [
    "Answer: Outliers would impact my analysis when exploring the dataset applying descriptive statistics. For example, with a dataset containing significant outliers, we would use the median over mean to get a more accurate understanding of dataset. Also, the outliers will skew the data so depending on the problem statement, we may want to exclude them from the analysis."
   ]
  },
  {
   "cell_type": "markdown",
   "metadata": {},
   "source": [
    "#### 3b. How will you test for outliers? "
   ]
  },
  {
   "cell_type": "markdown",
   "metadata": {},
   "source": [
    "Answer: I would test for outliers by visualizing the data with box plots, and seeing whether or not there are any data points outside the box quartile ranges.\n",
    "\n",
    "Another way to test for outliers is comparing the mean and median. If the mean is significantly higher than the mean, it may be a sign that there are outliers in the dataset."
   ]
  },
  {
   "cell_type": "markdown",
   "metadata": {},
   "source": [
    "#### 4a. What is colinearity? "
   ]
  },
  {
   "cell_type": "markdown",
   "metadata": {
    "collapsed": true
   },
   "source": [
    "Answer: Colinearity is a phenomenon in which two or more predictor variables in a multiple regression model are highly correlated, meaning that one can be linearly predicted from the others with a substantial degree of accuracy."
   ]
  },
  {
   "cell_type": "markdown",
   "metadata": {},
   "source": [
    "#### 4b. How will you test for colinearity? "
   ]
  },
  {
   "cell_type": "markdown",
   "metadata": {},
   "source": [
    "Answer: \n",
    "\n",
    "To see if two or more predictor variables in a multiple regression model are highly correlated, I would build a linear regression model using each of the predictor variable and evaluate the outcome.\n",
    "\n",
    "For example, in this analysis there are 3 predictors to predict whether or not an applicant would be admitted to the UCLA graduate school (gre, gpa, and prestige). I would alternate using each of the 3 to build the model and assess the p-value. Assuming 95% confidence internval, if the p-value of GPA is less than 0.05 when evaluated by itself, and greater than 0.05 when evaluated with another variable, we can surmise there is colinearity among the 2 variables."
   ]
  },
  {
   "cell_type": "markdown",
   "metadata": {},
   "source": [
    "#### 5. What is your exploratory analysis plan?\n",
    "Using the above information, write an exploratory analysis plan that would allow you or a colleague to reproduce your analysis 1 year from now. "
   ]
  },
  {
   "cell_type": "markdown",
   "metadata": {},
   "source": [
    "Answer: Following are steps in the exploratory analysis plan: \n",
    "\n",
    "**1st Step: Identify Problem**\n",
    "\n",
    "- After identifying the objectives, we would hypothesize goals and criteria for success. The objective of this analysis will be to explore whether there are associations between applicant's various evaluation factors and admissions.\n",
    "\n",
    "- Goals and criteria for success would be hypothesized using the SMART framework, where goals are specific, measurable, achievable, relevant, and time-bound. The goal of this analysis will be identifying applicant's various evaluation factors (gre, GPA, rank of applicant's undergraduate alma mater) that may influence admission into graduate school given an unspecified time period. By using statistical hypothesis testing, we will determine if a result is statistically significant or not. Using the standard 95% confidence interval, we will assess whether or not a variable is statistically significant. Looking at the variable's p-value, if there is a less than a 5% chance our finding was due to random chance alone, we can say it is statistically significant.\n",
    "\n",
    "- Next, we would make sure to ask the \"good question\", also using the SMART framework. Using UCLA Graduate School's Admissions data given an unspecified time period, how likely applicants are to be admitted to the school based on the applicant's various evaluation factors (GRE, GPA, rank of applicant's undergraduate alma mater)?\n",
    "\n",
    "- Lastly, once objectives and goals are determined, we would create a set of questions for identifying the correct dataset (explained in next step).\n",
    "\n",
    "**2nd Step: Acquire Data**\n",
    "- After creating a set of questions for identifying the correct dataset, we would ask the following questions to determine if we have the \"right\" dataset. 1) What type of data is it, cross-sectional or longitudinal? 2) How well was the data collected? 3) Is there much missing data? 4) Was the data collection instrument validated and reliable? 5) Is the dataset aggregated? 6) Do we need pre-aggregated data? Note: for this analysis, the dataset was provided and we do not have further information to answer the questions. \n",
    "- Additionally, we would determine appropriate tools to work with data. The tool we would use is Python, and we would build a logistic regression model to assess the statistcal significance of each evaluation factor (gre, GPA, rank of applicant's undergraduate alma mater) as related to admit values.\n",
    "\n",
    "**3rd Step: Parse Data**\n",
    "\n",
    "- In this step, the goal is to understand the data we are working with, by reading the documentation provided with data, creating or reviewing the data dictionary, perform exploratory surface analysis, describing data structure and information being collected, and verifying the quality of data.\n",
    "\n",
    "- Data dictionary for this analysis would be as follows: \n",
    "\n",
    "Variable | Description | Type of Variable\n",
    "---| ---| ---\n",
    "admit | Binary - (0 = not admitted, 1 = admitted) | categorical\n",
    "prestige  | Integer - Rank of applicant's undergraduate alma mater (1,2,3,4) with 1 being highest and 4 lowest | categorical\n",
    "gre | Integer - GRE Score | continuous \n",
    "gpa | Float - Grade Point Average | continuous \n",
    "\n",
    "- In our dataset, there are several rows with missing data and we would remove those datapoints when conducting our analysis. Apart from missing data, we would need further information to assess the quality of data."
   ]
  },
  {
   "cell_type": "markdown",
   "metadata": {},
   "source": [
    "## Bonus Questions:\n",
    "**Outline your analysis method for predicting your outcome.**\n",
    "\n",
    "4th Step: Mine Data\n",
    "- Determine sampling methodology and sample data\n",
    "- Format, slice, clean, and combine data in Python\n",
    "- Create necessary new columns from data\n",
    "\n",
    "5th Step: Refine Data\n",
    "- Identify any trends and outliers\n",
    "- Apply descriptive and inferential statistics\n",
    "- Document and tranform data\n",
    "\n",
    "6th Step: Build a Data Model\n",
    "- Select appropriate model\n",
    "- Build model\n",
    "- Evaluate and refine model\n",
    "\n",
    "**Write an alternative problem statement for your dataset**\n",
    "- Using UCLA Graduate School's Admissions dataset, given unspecified time period, determine the rank of applicant's undergraduate alma mater using evaluation factors (GRE, GPA) and admit values (0 - not admitted, 1 - admitted).\n",
    "\n",
    "\n",
    "** Articulate the assumptions and risks of the alternative model**\n",
    "- Assumption of the alternative model would again be that data is normally distributed, and the predictors (in this case, GRE, GPA, and admit values) are independent of one another."
   ]
  }
 ],
 "metadata": {
  "kernelspec": {
   "display_name": "Python 2",
   "language": "python",
   "name": "python2"
  },
  "language_info": {
   "codemirror_mode": {
    "name": "ipython",
    "version": 2
   },
   "file_extension": ".py",
   "mimetype": "text/x-python",
   "name": "python",
   "nbconvert_exporter": "python",
   "pygments_lexer": "ipython2",
   "version": "2.7.13"
  }
 },
 "nbformat": 4,
 "nbformat_minor": 1
}
