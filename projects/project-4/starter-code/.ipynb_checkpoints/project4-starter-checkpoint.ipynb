{
 "cells": [
  {
   "cell_type": "markdown",
   "metadata": {},
   "source": [
    "# Project 4\n",
    "\n",
    "\n",
    "In this project, you will summarize and present your analysis from Projects 1-3."
   ]
  },
  {
   "cell_type": "markdown",
   "metadata": {},
   "source": [
    "By Grace Cho"
   ]
  },
  {
   "cell_type": "code",
   "execution_count": 15,
   "metadata": {
    "collapsed": true
   },
   "outputs": [],
   "source": [
    "#imports\n",
    "from __future__ import division\n",
    "import pandas as pd\n",
    "import numpy as np\n",
    "import matplotlib.pyplot as plt\n",
    "import statsmodels.api as sm\n",
    "import pylab as pl\n",
    "import numpy as np\n",
    "%matplotlib inline"
   ]
  },
  {
   "cell_type": "code",
   "execution_count": 16,
   "metadata": {},
   "outputs": [
    {
     "name": "stdout",
     "output_type": "stream",
     "text": [
      "   admit    gre   gpa  prestige\n",
      "0      0  380.0  3.61       3.0\n",
      "1      1  660.0  3.67       3.0\n",
      "2      1  800.0  4.00       1.0\n",
      "3      1  640.0  3.19       4.0\n",
      "4      0  520.0  2.93       4.0\n"
     ]
    }
   ],
   "source": [
    "df_raw = pd.read_csv(\"../assets/admissions.csv\")\n",
    "df = df_raw.dropna() \n",
    "print df.head()"
   ]
  },
  {
   "cell_type": "markdown",
   "metadata": {},
   "source": [
    "### Intro: Write a problem Statement/ Specific Aim for this project"
   ]
  },
  {
   "cell_type": "markdown",
   "metadata": {},
   "source": [
    "Answer: We would like to explore the association between admission into UCLA grad school and the prestige of undergraduate institutions. The problem statement is as follows: determine if there is an association between graduate school admission and the prestige of a student's undergraduate school using data from the UCLA admissions data set."
   ]
  },
  {
   "cell_type": "markdown",
   "metadata": {},
   "source": [
    "### Dataset:  Write up a description of your data and any cleaning that was completed"
   ]
  },
  {
   "cell_type": "markdown",
   "metadata": {},
   "source": [
    "Dataset used was UCLA Graduate school's admissions data and did not have a specified time range. Before applying logistic regression, we dropped rows with NA values. Data dictionary is as follows:\n",
    "\n",
    "\n",
    "Variable | Description | Type of Variable\n",
    "---| ---| ---\n",
    "admit | Binary - (0 = not admitted, 1 = admitted) | categorical\n",
    "prestige  | Integer - Rank of applicant's undergraduate alma mater (1,2,3,4) with 1 being highest and 4 lowest | categorical\n",
    "gre | Integer - GRE Score | continuous\n",
    "gpa | Float - Grade Point Average | continuous"
   ]
  },
  {
   "cell_type": "markdown",
   "metadata": {
    "collapsed": true
   },
   "source": [
    "### Demo: Provide a table that explains the data by admission status"
   ]
  },
  {
   "cell_type": "code",
   "execution_count": 17,
   "metadata": {},
   "outputs": [
    {
     "name": "stdout",
     "output_type": "stream",
     "text": [
      "admit            0         1\n",
      "prestige                    \n",
      "1.0       0.459016  0.540984\n",
      "2.0       0.641892  0.358108\n",
      "3.0       0.768595  0.231405\n",
      "4.0       0.820896  0.179104\n",
      "admit\n",
      "0    2.068702\n",
      "1    0.961832\n",
      "dtype: float64\n",
      "admit\n",
      "0    10.423077\n",
      "1     4.846154\n",
      "dtype: float64\n"
     ]
    }
   ],
   "source": [
    "prestige = pd.crosstab(index=df[\"prestige\"], \n",
    "                            columns=df[\"admit\"]).apply(lambda r: r/r.sum(), axis=1)\n",
    "print prestige\n",
    "\n",
    "GPA = pd.crosstab(index=df[\"gpa\"], \n",
    "                            columns=df[\"admit\"]).apply(np.mean)\n",
    "print GPA\n",
    "\n",
    "GRE = pd.crosstab(index=df[\"gre\"], \n",
    "                            columns=df[\"admit\"]).apply(np.mean)\n",
    "print GRE"
   ]
  },
  {
   "cell_type": "markdown",
   "metadata": {},
   "source": [
    "Mean or counts (%) by admission status for each variable is as follows:\n",
    "\n",
    "| Not Admitted | Admitted\n",
    "---| ---|---\n",
    "GPA | 2.07 | 0.96\n",
    "GRE |10.42 | 4.85\n",
    "Prestige 1 | 46 (%) | 54 (%)\n",
    "Prestige 2 | 64 (%) | 36 (%)\n",
    "Prestige 3 | 77(%) | 23 (%)\n",
    "Prestige 4 |82 (%) | 18 (%)"
   ]
  },
  {
   "cell_type": "markdown",
   "metadata": {},
   "source": [
    "### Methods: Write up the methods used in your analysis"
   ]
  },
  {
   "cell_type": "markdown",
   "metadata": {},
   "source": [
    "Answer: To explore the association between admission into grad school and the prestige of undergraduate institutions, we first explored individual variables separately using various exploratory data analysis methods below: \n",
    "\n",
    "- apply simple descriptive stats\n",
    "- box plots \n",
    "- histograms\n",
    "\n",
    "\n",
    "Then, we made sure the variables are not colinear. Finally, we built a logistic regression model that predicts probability of admission, using all of the available variables."
   ]
  },
  {
   "cell_type": "markdown",
   "metadata": {},
   "source": [
    "### Results: Write up your results"
   ]
  },
  {
   "cell_type": "markdown",
   "metadata": {},
   "source": [
    "Answer: The prestige of undergraduate institutions have a strong association with likelihood of admission into grad school. Probability of admission into UCLA grad school, drastically declines as prestige of undergraduate instituations decline. The difference in probability is almost 40% higher for students who attended prestige 1 compared to students who attended the lowest prestige (4) school."
   ]
  },
  {
   "cell_type": "markdown",
   "metadata": {},
   "source": [
    "### Visuals: Provide a table or visualization of these results"
   ]
  },
  {
   "cell_type": "markdown",
   "metadata": {},
   "source": [
    "<img src='prestige.png' height= 50% width= 50%>"
   ]
  },
  {
   "cell_type": "markdown",
   "metadata": {},
   "source": [
    "### Discussion: Write up your discussion and future steps"
   ]
  },
  {
   "cell_type": "markdown",
   "metadata": {},
   "source": [
    "Answer: As shown above in the visualization and in evaluating the model predictions, we can see that there is a strong association between prestige of undergraduate institutions and likelihood of admission into grad school. \n",
    "\n",
    "For next steps, I would like to evaluate factors that may have have an effect on prestige of undergraduate institutions. What makes an institution \"prestigious\"? Doing a deeper dive into how the undergraduate instituations are evaluated, may be helpful in informing students of ways to raise their admission rates despite attending a 2nd tier institution."
   ]
  }
 ],
 "metadata": {
  "kernelspec": {
   "display_name": "Python 2",
   "language": "python",
   "name": "python2"
  },
  "language_info": {
   "codemirror_mode": {
    "name": "ipython",
    "version": 2
   },
   "file_extension": ".py",
   "mimetype": "text/x-python",
   "name": "python",
   "nbconvert_exporter": "python",
   "pygments_lexer": "ipython2",
   "version": "2.7.13"
  }
 },
 "nbformat": 4,
 "nbformat_minor": 1
}
